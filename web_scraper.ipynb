{
 "cells": [
  {
   "cell_type": "code",
   "execution_count": null,
   "metadata": {},
   "outputs": [],
   "source": [
    "import requests\n",
    "from bs4 import BeautifulSoup\n",
    "\n",
    "r = requests.get(\"https://www.century21.com/real-estate/colorado-springs-co/LCCOCOLORADOSPRINGS/\")\n",
    "c = r.content\n",
    "\n",
    "soup = BeautifulSoup(c, \"html.parser\")\n",
    "\n",
    "css_classes = [\n",
    "    \"listing-price\",\n",
    "    \"property-address\",\n",
    "    \"property-city\",\n",
    "    \"property-beds\",\n",
    "    \"property-baths\",\n",
    "    \"property-sqft\",\n",
    "]\n",
    "\n",
    "pl = [{css_class.split('-')[1]: item.find(class_=css_class).text.strip() # this shouldn't error if not found\n",
    "       for css_class in css_classes} # find each class in the class list\n",
    "       for item in soup.find_all('div', class_='property-card-primary-info')] # find each property card div\n",
    "\n",
    "print(pl)"
   ]
  },
  {
   "cell_type": "code",
   "execution_count": null,
   "metadata": {},
   "outputs": [],
   "source": [
    "import pandas\n",
    "df=pandas.DataFrame(pl)"
   ]
  },
  {
   "cell_type": "code",
   "execution_count": null,
   "metadata": {},
   "outputs": [],
   "source": [
    "df.to_csv(\"Output.csv\")"
   ]
  }
 ],
 "metadata": {
  "language_info": {
   "codemirror_mode": {
    "name": "ipython",
    "version": 3
   },
   "file_extension": ".py",
   "mimetype": "text/x-python",
   "name": "python",
   "nbconvert_exporter": "python",
   "pygments_lexer": "ipython3",
   "version": "3.8.2-final"
  },
  "orig_nbformat": 2,
  "kernelspec": {
   "name": "python38232bit8f991bc4359b494d9abb28e740ad8c6c",
   "display_name": "Python 3.8.2 32-bit"
  }
 },
 "nbformat": 4,
 "nbformat_minor": 2
}